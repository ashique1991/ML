{
 "cells": [
  {
   "cell_type": "code",
   "execution_count": 46,
   "id": "f37c4c17",
   "metadata": {},
   "outputs": [],
   "source": [
    "import pandas as pd"
   ]
  },
  {
   "cell_type": "code",
   "execution_count": 47,
   "id": "78c725b3",
   "metadata": {},
   "outputs": [],
   "source": [
    "data = pd.read_csv('Index_34.csv')\n"
   ]
  },
  {
   "cell_type": "code",
   "execution_count": 48,
   "id": "c566964f",
   "metadata": {},
   "outputs": [],
   "source": [
    "import math\n",
    "mean_GDP = math.floor(data.GDP.mean())\n"
   ]
  },
  {
   "cell_type": "code",
   "execution_count": 49,
   "id": "7d9bbc6f",
   "metadata": {},
   "outputs": [],
   "source": [
    " data.GDP = data.GDP.fillna(mean_GDP)"
   ]
  },
  {
   "cell_type": "code",
   "execution_count": 50,
   "id": "c6ad4271",
   "metadata": {},
   "outputs": [],
   "source": [
    "mean_oil = math.floor(data.oil.mean())\n"
   ]
  },
  {
   "cell_type": "code",
   "execution_count": 51,
   "id": "f754304f",
   "metadata": {},
   "outputs": [],
   "source": [
    " data.oil = data.oil.fillna(mean_oil)"
   ]
  },
  {
   "cell_type": "code",
   "execution_count": 52,
   "id": "1a3fbbd7",
   "metadata": {},
   "outputs": [
    {
     "data": {
      "text/plain": [
       "95"
      ]
     },
     "execution_count": 52,
     "metadata": {},
     "output_type": "execute_result"
    }
   ],
   "source": [
    "mean_CPI = math.floor(data.CPI.mean())\n",
    "mean_CPI"
   ]
  },
  {
   "cell_type": "code",
   "execution_count": 53,
   "id": "72ad0019",
   "metadata": {},
   "outputs": [],
   "source": [
    " data.CPI = data.oil.fillna(mean_CPI)"
   ]
  },
  {
   "cell_type": "code",
   "execution_count": 54,
   "id": "cd032d90",
   "metadata": {},
   "outputs": [],
   "source": [
    "data.to_csv('All_index.csv')"
   ]
  },
  {
   "cell_type": "code",
   "execution_count": null,
   "id": "2929c384",
   "metadata": {},
   "outputs": [],
   "source": []
  }
 ],
 "metadata": {
  "kernelspec": {
   "display_name": "Python 3 (ipykernel)",
   "language": "python",
   "name": "python3"
  },
  "language_info": {
   "codemirror_mode": {
    "name": "ipython",
    "version": 3
   },
   "file_extension": ".py",
   "mimetype": "text/x-python",
   "name": "python",
   "nbconvert_exporter": "python",
   "pygments_lexer": "ipython3",
   "version": "3.9.12"
  }
 },
 "nbformat": 4,
 "nbformat_minor": 5
}
